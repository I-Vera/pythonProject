{
  "cells": [
    {
      "cell_type": "markdown",
      "metadata": {
        "id": "view-in-github",
        "colab_type": "text"
      },
      "source": [
        "<a href=\"https://colab.research.google.com/github/I-Vera/pythonProject/blob/main/%5BHW4_Python%5D_Vera_Ivanushko.ipynb\" target=\"_parent\"><img src=\"https://colab.research.google.com/assets/colab-badge.svg\" alt=\"Open In Colab\"/></a>"
      ]
    },
    {
      "cell_type": "markdown",
      "id": "8f868eb6",
      "metadata": {
        "id": "8f868eb6"
      },
      "source": [
        "# Homework 4 - Python\n",
        "\n",
        "First Name: Vera\n",
        "\n",
        "Last Name: Ivanushko\n",
        "\n",
        "Group: 1\n",
        "\n",
        "### After the assigment is done, please, push it to your [private GitHub repository](https://docs.github.com/en/github/administering-a-repository/managing-repository-settings/setting-repository-visibility) and invite [Majid-Sohrabi](https://github.com/Majid-Sohrabi)  as [collaborator](https://docs.github.com/en/account-and-profile/setting-up-and-managing-your-github-user-account/managing-access-to-your-personal-repositories/inviting-collaborators-to-a-personal-repository)."
      ]
    },
    {
      "cell_type": "markdown",
      "id": "091e8e47",
      "metadata": {
        "id": "091e8e47"
      },
      "source": [
        "## Task 1 - Text to Emoji (1 point)\n",
        "\n",
        "Write a Python program that takes input text containing emotions and converts them into corresponding emojis. Your program should replace specific text representations of emotions with appropriate emoji symbols. (Do mapping of all emojis, also you can use demoji library) Your code should work for any text input\n",
        "\n",
        "\n",
        "\n",
        "  ```\n",
        "      **Sample Input Text:**\n",
        "      # My heart swells with happiness as I bask in the warmth of your presence, grateful for every moment shared together. Yet, a twinge of sadness tugs at my soul. Despite the challenges, I'm excited for the future, determined to overcome any obstacles that come our way.\n",
        "\n",
        "\n",
        "      **Output Example:**\n",
        "      My ❤️ swells with happiness as I bask in the warmth of your presence, grateful for every moment shared together. Yet, a twinge of 😞 tugs at my soul. Despite the challenges, I'm 😃 for the future, determined to overcome any obstacles that come our way.\n",
        "  ```"
      ]
    },
    {
      "cell_type": "code",
      "execution_count": 2,
      "id": "4d4a5e5f",
      "metadata": {
        "colab": {
          "base_uri": "https://localhost:8080/"
        },
        "id": "4d4a5e5f",
        "outputId": "1d52f307-e7e0-4259-d5b4-711764e43eb9"
      },
      "outputs": [
        {
          "output_type": "stream",
          "name": "stdout",
          "text": [
            "Enter text with emotions: My heart swells with happiness as I bask in the warmth of your presence, grateful for every moment shared together. Yet, a twinge of sadness tugs at my soul. Despite the challenges, I'm excited for the future, determined to overcome any obstacles that come our way.\n",
            "Converted text with emojis:\n",
            "my ❤️ swells with happiness as i bask in the warmth of your presence, grateful for every moment shared together. yet, a twinge of sadness tugs at my soul. despite the challenges, i'm 😃 for the future, determined to overcome any obstacles that come our way.\n"
          ]
        }
      ],
      "source": [
        "import re\n",
        "emotion_to_emoji = {\n",
        "    'happy': 'smiling face',\n",
        "    'sad': 'crying face',\n",
        "    'angry': 'angry face',\n",
        "    'love': 'red heart',\n",
        "    'laugh': 'face with tears of joy',\n",
        "    'surprised': 'face with open mouth',\n",
        "    'fear': 'fearful face',\n",
        "    'confused': 'confused face',\n",
        "    'bored': 'neutral face',\n",
        "    'tired': 'sleepy face',\n",
        "    'excited': 'grinning face with big eyes',\n",
        "    'sleepy': 'sleeping face',\n",
        "    'cry': 'crying face',\n",
        "    'smile': 'smiling face with smiling eyes',\n",
        "    'kiss': 'face blowing a kiss',\n",
        "    'cool': 'smiling face with sunglasses',\n",
        "    'wink': 'winking face',\n",
        "    'blush': 'smiling face with smiling eyes',\n",
        "    'grin': 'grinning face',\n",
        "    'neutral': 'neutral face',\n",
        "    'disappointed': 'disappointed face',\n",
        "    'relieved': 'relieved face',\n",
        "    'heart': 'red heart',\n",
        "    'star': 'glowing star',\n",
        "    'party': 'party popper',\n",
        "    'sick': 'face with medical mask',\n",
        "    'nerd': 'nerd face',\n",
        "    'thinking': 'thinking face',\n",
        "    'shy': 'shy face',\n",
        "    'smirk': 'smirking face',\n",
        "    'clap': 'clapping hands',\n",
        "    'pray': 'folded hands',\n",
        "    'ok': 'OK hand',\n",
        "    'thumbs up': 'thumbs up',\n",
        "    'thumbs down': 'thumbs down',\n",
        "    'fire': 'fire',\n",
        "    '100': 'hundred points',\n",
        "    'check': 'check mark',\n",
        "    'cross': 'cross mark'\n",
        "}\n",
        "\n",
        "# Mapping of emoji descriptions to actual emoji characters\n",
        "emoji_map = {\n",
        "    'smiling face': '😊',\n",
        "    'crying face': '😢',\n",
        "    'angry face': '😠',\n",
        "    'red heart': '❤️',\n",
        "    'face with tears of joy': '😂',\n",
        "    'face with open mouth': '😮',\n",
        "    'fearful face': '😨',\n",
        "    'confused face': '😕',\n",
        "    'neutral face': '😐',\n",
        "    'sleepy face': '😴',\n",
        "    'grinning face with big eyes': '😃',\n",
        "    'sleeping face': '😴',\n",
        "    'smiling face with smiling eyes': '😊',\n",
        "    'face blowing a kiss': '😘',\n",
        "    'smiling face with sunglasses': '😎',\n",
        "    'winking face': '😉',\n",
        "    'grinning face': '😁',\n",
        "    'disappointed face': '😞',\n",
        "    'relieved face': '😌',\n",
        "    'glowing star': '🌟',\n",
        "    'party popper': '🎉',\n",
        "    'face with medical mask': '😷',\n",
        "    'nerd face': '🤓',\n",
        "    'thinking face': '🤔',\n",
        "    'shy face': '😊',\n",
        "    'smirking face': '😏',\n",
        "    'clapping hands': '👏',\n",
        "    'folded hands': '🙏',\n",
        "    'OK hand': '👌',\n",
        "    'thumbs up': '👍',\n",
        "    'thumbs down': '👎',\n",
        "    'fire': '🔥',\n",
        "    'hundred points': '💯',\n",
        "    'check mark': '✔️',\n",
        "    'cross mark': '❌'\n",
        "}\n",
        "\n",
        "user_text = input(\"Enter text with emotions: \")\n",
        "\n",
        "\n",
        "# Convert text to lowercase for matching\n",
        "text_lower = user_text.lower()\n",
        "# Replace each emotion word with its corresponding emoji\n",
        "for emotion, desc in emotion_to_emoji.items():\n",
        "    emoji_char = emoji_map.get(desc, '')\n",
        "    if emoji_char:\n",
        "        # Replace whole words only using regex\n",
        "        text_lower = re.sub(r'\\b' + re.escape(emotion) + r'\\b', emoji_char, text_lower)\n",
        "\n",
        "print(\"Converted text with emojis:\")\n",
        "print(text_lower)"
      ]
    },
    {
      "cell_type": "code",
      "execution_count": null,
      "id": "12312c40",
      "metadata": {
        "id": "12312c40"
      },
      "outputs": [],
      "source": []
    },
    {
      "cell_type": "markdown",
      "id": "8d80e4ad",
      "metadata": {
        "id": "8d80e4ad"
      },
      "source": [
        "## Task 2 - Book Dataset (1 point)\n",
        "\n",
        "Using Python and various libraries read the .txt files containing the books, the ratings, and the user data that you can find at the [urls](https://github.com/Majid-Sohrabi/2025_Python_Cognitive/tree/main/Datasets) defined below.\n",
        "\n",
        "1. Concatenate all three files into a single .txt file (Your task is to combine the information from three separate text files into a single cohesive dataset).\n",
        "The resulting dataset should contain all relevant information from each file, merged together appropriately. save the newly generated file as ***YOURNAME_BOOKS_DATA.txt***. (use comma seprated value)\n",
        "\n",
        "2. Find out which book has the highest number of reviews and which has lowest number of reviews? (just print it in your code cell).\n",
        "\n",
        "3. Find out which book has the highest average rating - but include only books that have at least 100 reviews!\n",
        "\n",
        "4. From the YOURNAME_BOOKS_DATA.txt generate a list of all the countries present in the dataset. Then, find the highest rated book in each one of those countries. (Each book/Country) and simply print it\n",
        "\n",
        "\n",
        "Full Datasets available on this: [Dataset URL](https://github.com/Majid-Sohrabi/2025_Python_Cognitive/tree/main/Datasets) or you can use below code cell to call dataset\n",
        "\n",
        "1.   **users.txt**: Contains information about users, including their *user ID, age, and country*.\n",
        "2.   **ratings.txt**: Contains information about book ratings given by users, including the *user ID, ISBN of the book, and the rating* given.\n",
        "3.   **books.txt**: Contains information about books, including the *ISBN, title, and author*."
      ]
    },
    {
      "cell_type": "code",
      "execution_count": 6,
      "id": "ccfea82f",
      "metadata": {
        "id": "ccfea82f"
      },
      "outputs": [],
      "source": [
        "users_url = \"https://github.com/Majid-Sohrabi/2025_Python_Cognitive/blob/main/Datasets/users.txt\"\n",
        "ratings_url = \"https://github.com/Majid-Sohrabi/2025_Python_Cognitive/blob/main/Datasets/ratings.txt\"\n",
        "books_url = \"https://github.com/Majid-Sohrabi/2025_Python_Cognitive/blob/main/Datasets/books.txt\""
      ]
    },
    {
      "cell_type": "code",
      "execution_count": 11,
      "id": "2bf87979",
      "metadata": {
        "colab": {
          "base_uri": "https://localhost:8080/",
          "height": 530
        },
        "collapsed": true,
        "id": "2bf87979",
        "outputId": "94170645-cd5e-4bf2-ee53-3ea29e8fa7da"
      },
      "outputs": [
        {
          "output_type": "error",
          "ename": "ParserError",
          "evalue": "Error tokenizing data. C error: Expected 1 fields in line 42, saw 61\n",
          "traceback": [
            "\u001b[0;31m---------------------------------------------------------------------------\u001b[0m",
            "\u001b[0;31mParserError\u001b[0m                               Traceback (most recent call last)",
            "\u001b[0;32m<ipython-input-11-709a321e4832>\u001b[0m in \u001b[0;36m<cell line: 0>\u001b[0;34m()\u001b[0m\n\u001b[1;32m      1\u001b[0m \u001b[0;32mimport\u001b[0m \u001b[0mpandas\u001b[0m \u001b[0;32mas\u001b[0m \u001b[0mpd\u001b[0m\u001b[0;34m\u001b[0m\u001b[0;34m\u001b[0m\u001b[0m\n\u001b[1;32m      2\u001b[0m \u001b[0;34m\u001b[0m\u001b[0m\n\u001b[0;32m----> 3\u001b[0;31m \u001b[0musers_df\u001b[0m \u001b[0;34m=\u001b[0m \u001b[0mpd\u001b[0m\u001b[0;34m.\u001b[0m\u001b[0mread_csv\u001b[0m\u001b[0;34m(\u001b[0m\u001b[0;34m\"https://github.com/Majid-Sohrabi/2025_Python_Cognitive/blob/main/Datasets/users.txt\"\u001b[0m\u001b[0;34m,\u001b[0m \u001b[0msep\u001b[0m\u001b[0;34m=\u001b[0m\u001b[0;34m','\u001b[0m\u001b[0;34m)\u001b[0m\u001b[0;34m\u001b[0m\u001b[0;34m\u001b[0m\u001b[0m\n\u001b[0m\u001b[1;32m      4\u001b[0m \u001b[0mratings_df\u001b[0m \u001b[0;34m=\u001b[0m \u001b[0mpd\u001b[0m\u001b[0;34m.\u001b[0m\u001b[0mread_csv\u001b[0m\u001b[0;34m(\u001b[0m\u001b[0;34m\"https://github.com/Majid-Sohrabi/2025_Python_Cognitive/blob/main/Datasets/ratings.txt\"\u001b[0m\u001b[0;34m,\u001b[0m \u001b[0msep\u001b[0m\u001b[0;34m=\u001b[0m\u001b[0;34m','\u001b[0m\u001b[0;34m)\u001b[0m\u001b[0;34m\u001b[0m\u001b[0;34m\u001b[0m\u001b[0m\n\u001b[1;32m      5\u001b[0m \u001b[0mbooks_df\u001b[0m \u001b[0;34m=\u001b[0m \u001b[0mpd\u001b[0m\u001b[0;34m.\u001b[0m\u001b[0mread_csv\u001b[0m\u001b[0;34m(\u001b[0m\u001b[0;34m\"https://github.com/Majid-Sohrabi/2025_Python_Cognitive/blob/main/Datasets/books.txt\"\u001b[0m\u001b[0;34m,\u001b[0m \u001b[0msep\u001b[0m\u001b[0;34m=\u001b[0m\u001b[0;34m','\u001b[0m\u001b[0;34m)\u001b[0m\u001b[0;34m\u001b[0m\u001b[0;34m\u001b[0m\u001b[0m\n",
            "\u001b[0;32m/usr/local/lib/python3.11/dist-packages/pandas/io/parsers/readers.py\u001b[0m in \u001b[0;36mread_csv\u001b[0;34m(filepath_or_buffer, sep, delimiter, header, names, index_col, usecols, dtype, engine, converters, true_values, false_values, skipinitialspace, skiprows, skipfooter, nrows, na_values, keep_default_na, na_filter, verbose, skip_blank_lines, parse_dates, infer_datetime_format, keep_date_col, date_parser, date_format, dayfirst, cache_dates, iterator, chunksize, compression, thousands, decimal, lineterminator, quotechar, quoting, doublequote, escapechar, comment, encoding, encoding_errors, dialect, on_bad_lines, delim_whitespace, low_memory, memory_map, float_precision, storage_options, dtype_backend)\u001b[0m\n\u001b[1;32m   1024\u001b[0m     \u001b[0mkwds\u001b[0m\u001b[0;34m.\u001b[0m\u001b[0mupdate\u001b[0m\u001b[0;34m(\u001b[0m\u001b[0mkwds_defaults\u001b[0m\u001b[0;34m)\u001b[0m\u001b[0;34m\u001b[0m\u001b[0;34m\u001b[0m\u001b[0m\n\u001b[1;32m   1025\u001b[0m \u001b[0;34m\u001b[0m\u001b[0m\n\u001b[0;32m-> 1026\u001b[0;31m     \u001b[0;32mreturn\u001b[0m \u001b[0m_read\u001b[0m\u001b[0;34m(\u001b[0m\u001b[0mfilepath_or_buffer\u001b[0m\u001b[0;34m,\u001b[0m \u001b[0mkwds\u001b[0m\u001b[0;34m)\u001b[0m\u001b[0;34m\u001b[0m\u001b[0;34m\u001b[0m\u001b[0m\n\u001b[0m\u001b[1;32m   1027\u001b[0m \u001b[0;34m\u001b[0m\u001b[0m\n\u001b[1;32m   1028\u001b[0m \u001b[0;34m\u001b[0m\u001b[0m\n",
            "\u001b[0;32m/usr/local/lib/python3.11/dist-packages/pandas/io/parsers/readers.py\u001b[0m in \u001b[0;36m_read\u001b[0;34m(filepath_or_buffer, kwds)\u001b[0m\n\u001b[1;32m    624\u001b[0m \u001b[0;34m\u001b[0m\u001b[0m\n\u001b[1;32m    625\u001b[0m     \u001b[0;32mwith\u001b[0m \u001b[0mparser\u001b[0m\u001b[0;34m:\u001b[0m\u001b[0;34m\u001b[0m\u001b[0;34m\u001b[0m\u001b[0m\n\u001b[0;32m--> 626\u001b[0;31m         \u001b[0;32mreturn\u001b[0m \u001b[0mparser\u001b[0m\u001b[0;34m.\u001b[0m\u001b[0mread\u001b[0m\u001b[0;34m(\u001b[0m\u001b[0mnrows\u001b[0m\u001b[0;34m)\u001b[0m\u001b[0;34m\u001b[0m\u001b[0;34m\u001b[0m\u001b[0m\n\u001b[0m\u001b[1;32m    627\u001b[0m \u001b[0;34m\u001b[0m\u001b[0m\n\u001b[1;32m    628\u001b[0m \u001b[0;34m\u001b[0m\u001b[0m\n",
            "\u001b[0;32m/usr/local/lib/python3.11/dist-packages/pandas/io/parsers/readers.py\u001b[0m in \u001b[0;36mread\u001b[0;34m(self, nrows)\u001b[0m\n\u001b[1;32m   1921\u001b[0m                     \u001b[0mcolumns\u001b[0m\u001b[0;34m,\u001b[0m\u001b[0;34m\u001b[0m\u001b[0;34m\u001b[0m\u001b[0m\n\u001b[1;32m   1922\u001b[0m                     \u001b[0mcol_dict\u001b[0m\u001b[0;34m,\u001b[0m\u001b[0;34m\u001b[0m\u001b[0;34m\u001b[0m\u001b[0m\n\u001b[0;32m-> 1923\u001b[0;31m                 \u001b[0;34m)\u001b[0m \u001b[0;34m=\u001b[0m \u001b[0mself\u001b[0m\u001b[0;34m.\u001b[0m\u001b[0m_engine\u001b[0m\u001b[0;34m.\u001b[0m\u001b[0mread\u001b[0m\u001b[0;34m(\u001b[0m  \u001b[0;31m# type: ignore[attr-defined]\u001b[0m\u001b[0;34m\u001b[0m\u001b[0;34m\u001b[0m\u001b[0m\n\u001b[0m\u001b[1;32m   1924\u001b[0m                     \u001b[0mnrows\u001b[0m\u001b[0;34m\u001b[0m\u001b[0;34m\u001b[0m\u001b[0m\n\u001b[1;32m   1925\u001b[0m                 )\n",
            "\u001b[0;32m/usr/local/lib/python3.11/dist-packages/pandas/io/parsers/c_parser_wrapper.py\u001b[0m in \u001b[0;36mread\u001b[0;34m(self, nrows)\u001b[0m\n\u001b[1;32m    232\u001b[0m         \u001b[0;32mtry\u001b[0m\u001b[0;34m:\u001b[0m\u001b[0;34m\u001b[0m\u001b[0;34m\u001b[0m\u001b[0m\n\u001b[1;32m    233\u001b[0m             \u001b[0;32mif\u001b[0m \u001b[0mself\u001b[0m\u001b[0;34m.\u001b[0m\u001b[0mlow_memory\u001b[0m\u001b[0;34m:\u001b[0m\u001b[0;34m\u001b[0m\u001b[0;34m\u001b[0m\u001b[0m\n\u001b[0;32m--> 234\u001b[0;31m                 \u001b[0mchunks\u001b[0m \u001b[0;34m=\u001b[0m \u001b[0mself\u001b[0m\u001b[0;34m.\u001b[0m\u001b[0m_reader\u001b[0m\u001b[0;34m.\u001b[0m\u001b[0mread_low_memory\u001b[0m\u001b[0;34m(\u001b[0m\u001b[0mnrows\u001b[0m\u001b[0;34m)\u001b[0m\u001b[0;34m\u001b[0m\u001b[0;34m\u001b[0m\u001b[0m\n\u001b[0m\u001b[1;32m    235\u001b[0m                 \u001b[0;31m# destructive to chunks\u001b[0m\u001b[0;34m\u001b[0m\u001b[0;34m\u001b[0m\u001b[0m\n\u001b[1;32m    236\u001b[0m                 \u001b[0mdata\u001b[0m \u001b[0;34m=\u001b[0m \u001b[0m_concatenate_chunks\u001b[0m\u001b[0;34m(\u001b[0m\u001b[0mchunks\u001b[0m\u001b[0;34m)\u001b[0m\u001b[0;34m\u001b[0m\u001b[0;34m\u001b[0m\u001b[0m\n",
            "\u001b[0;32mparsers.pyx\u001b[0m in \u001b[0;36mpandas._libs.parsers.TextReader.read_low_memory\u001b[0;34m()\u001b[0m\n",
            "\u001b[0;32mparsers.pyx\u001b[0m in \u001b[0;36mpandas._libs.parsers.TextReader._read_rows\u001b[0;34m()\u001b[0m\n",
            "\u001b[0;32mparsers.pyx\u001b[0m in \u001b[0;36mpandas._libs.parsers.TextReader._tokenize_rows\u001b[0;34m()\u001b[0m\n",
            "\u001b[0;32mparsers.pyx\u001b[0m in \u001b[0;36mpandas._libs.parsers.TextReader._check_tokenize_status\u001b[0;34m()\u001b[0m\n",
            "\u001b[0;32mparsers.pyx\u001b[0m in \u001b[0;36mpandas._libs.parsers.raise_parser_error\u001b[0;34m()\u001b[0m\n",
            "\u001b[0;31mParserError\u001b[0m: Error tokenizing data. C error: Expected 1 fields in line 42, saw 61\n"
          ]
        }
      ],
      "source": [
        "import pandas as pd\n",
        "\n",
        "users_df = pd.read_csv(users_url, sep=',')\n",
        "ratings_df = pd.read_csv(ratings_url, sep=',')\n",
        "books_df = pd.read_csv(books_url, sep=',')\n",
        "\n",
        "# merge on user_id\n",
        "merged_df = pd.merge(users_df, ratings_df, on='user_id', how='inner')\n",
        "\n",
        "# merge on ISNB\n",
        "merged_df = pd.merge(merged_df, books_df, on='ISNB', how='inner')\n",
        "\n",
        "# save the merged df\n",
        "output_filename = 'VERAIVANUSHKO_BOOKS_DATA.txt'\n",
        "merged_df.to_csv(output_filename, index=False)\n",
        "\n",
        "# highest and lowest number of reviews\n",
        "review_counts = merged_df.groupby(['ISNB', 'title'])['review_count'].max().reset_index()\n",
        "highest_reviews = review_counts.loc[review_counts['review_count'].idxmax()]\n",
        "lowest_reviews = review_counts.loc[review_counts['review_count'].idxmin()]\n",
        "\n",
        "print(f\"Book with highest number of reviews: {highest_reviews['title']} ({highest_reviews['review_count']} reviews)\")\n",
        "print(f\"Book with lowest number of reviews: {lowest_reviews['title']} ({lowest_reviews['review_count']} reviews)\")\n",
        "\n",
        "# highest average rating with at least 100 reviews\n",
        "book_stats = merged_df.groupby(['ISNB', 'title']).agg({'rating': 'mean', 'review_count': 'max'}).reset_index()\n",
        "books_100_reviews = book_stats[book_stats['review_count'] >= 100]\n",
        "highest_avg_rating = books_100_reviews.loc[books_100_reviews['rating'].idxmax()]\n",
        "\n",
        "print(f\"Book with highest average rating (min 100 reviews): {highest_avg_rating['title']} (Rating: {highest_avg_rating['rating']:.2f})\")\n",
        "\n",
        "# all countries from books data\n",
        "countries = merged_df['country_x'].unique()\n",
        "\n",
        "# Find highest rated book in each country\n",
        "for country in countries:\n",
        "    country_books = merged_df[merged_df['country_x'] == country]\n",
        "    avg_ratings = country_books.groupby(['book_id', 'title']).agg({'rating': 'mean'}).reset_index()\n",
        "    highest_rated = avg_ratings.loc[avg_ratings['rating'].idxmax()]\n",
        "    print(f\"Highest rated book in {country}: {highest_rated['title']} with rating {highest_rated['rating']:.2f}\")"
      ]
    },
    {
      "cell_type": "code",
      "execution_count": null,
      "id": "c020ad15",
      "metadata": {
        "id": "c020ad15"
      },
      "outputs": [],
      "source": []
    },
    {
      "cell_type": "markdown",
      "id": "520886d8",
      "metadata": {
        "id": "520886d8"
      },
      "source": [
        "## Task 3 - Automating University Admission Process (1.5 point)\n",
        "\n",
        "Develop a Python program using OOP to automate the admission process for a university based on the marks scored in a qualifying exam. Each student is represented by a unique student ID, along with their age and marks obtained in the exam.\n",
        "\n",
        "**Data Validity Criteria:**\n",
        "\n",
        "1. **Age:** The age of the student must be greater than 17 years.\n",
        "2. **Marks:** The marks obtained by the student must be within the range of 0 to 100 (both inclusive).\n",
        "\n",
        "**Admission Qualification Criteria:**\n",
        "\n",
        "A student qualifies for admission if the following conditions are met:\n",
        "\n",
        "1. The age and marks of the student are valid according to the criteria mentioned above.\n",
        "2. The marks obtained by the student are 35 or more.\n",
        "\n",
        "**Scholarship Calculation:**\n",
        "\n",
        "Based on the marks obtained by the student, the following scholarship percentages are applicable:\n",
        "\n",
        "*   96-100: 100% Scholarship\n",
        "*   86-95: 75% Scholarship\n",
        "*   76-85: 50% Scholarship\n",
        "*   60-75: 20% Scholarship\n",
        "*   50-60: 10% Scholarship\n",
        "*   Below 50: No scholarship; full tuition fees apply.\n",
        "\n",
        "\n",
        "Write a python program to represent the students seeking admission in the university with atleast 5 students input test"
      ]
    },
    {
      "cell_type": "code",
      "execution_count": 16,
      "id": "17ceeaaf",
      "metadata": {
        "colab": {
          "base_uri": "https://localhost:8080/"
        },
        "collapsed": true,
        "id": "17ceeaaf",
        "outputId": "fd9e1c94-9f30-4229-cf70-4a459ee90b5a"
      },
      "outputs": [
        {
          "output_type": "stream",
          "name": "stdout",
          "text": [
            "Input data for 5 students to be tested.\n",
            "Enter details for 5 students:\n",
            "\n",
            "Student 1:\n",
            "Enter Student ID: S201\n",
            "Enter Age: 34\n",
            "Enter Marks (0-100): 98\n",
            "\n",
            "Student 2:\n",
            "Enter Student ID: S202\n",
            "Enter Age: 18\n",
            "Enter Marks (0-100): 67\n",
            "\n",
            "Student 3:\n",
            "Enter Student ID: S203\n",
            "Enter Age: 20\n",
            "Enter Marks (0-100): 96\n",
            "\n",
            "Student 4:\n",
            "Enter Student ID: S204\n",
            "Enter Age: 37\n",
            "Enter Marks (0-100): 36\n",
            "\n",
            "Student 5:\n",
            "Enter Student ID: 23\n",
            "Enter Age: 23\n",
            "Enter Marks (0-100): 69\n",
            "\n",
            "Admission Results:\n",
            "========================================\n",
            "Student ID: S201\n",
            "Age: 34\n",
            "Marks: 98.0\n",
            "Valid Data: Yes\n",
            "Qualified for Admission: Yes\n",
            "Scholarship Percentage: 100%\n",
            "----------------------------------------\n",
            "Student ID: S202\n",
            "Age: 18\n",
            "Marks: 67.0\n",
            "Valid Data: Yes\n",
            "Qualified for Admission: Yes\n",
            "Scholarship Percentage: 20%\n",
            "----------------------------------------\n",
            "Student ID: S203\n",
            "Age: 20\n",
            "Marks: 96.0\n",
            "Valid Data: Yes\n",
            "Qualified for Admission: Yes\n",
            "Scholarship Percentage: 100%\n",
            "----------------------------------------\n",
            "Student ID: S204\n",
            "Age: 37\n",
            "Marks: 36.0\n",
            "Valid Data: Yes\n",
            "Qualified for Admission: Yes\n",
            "Scholarship Percentage: 0%\n",
            "----------------------------------------\n",
            "Student ID: 23\n",
            "Age: 23\n",
            "Marks: 69.0\n",
            "Valid Data: Yes\n",
            "Qualified for Admission: Yes\n",
            "Scholarship Percentage: 20%\n",
            "----------------------------------------\n"
          ]
        }
      ],
      "source": [
        "class Student:\n",
        "    def __init__(self, student_id, age, marks):\n",
        "        self.student_id = student_id\n",
        "        self.age = age\n",
        "        self.marks = marks\n",
        "        self.is_valid = self.validate_data()\n",
        "        self.is_qualified = False\n",
        "        self.scholarship = 0\n",
        "\n",
        "    def validate_data(self):\n",
        "        if self.age <= 17:\n",
        "            print(f\"Student {self.student_id}: Invalid age, {self.age}. Students must be above age 17 to apply.\")\n",
        "            return False\n",
        "        if not (0 <= self.marks <= 100):\n",
        "            print(f\"Student {self.student_id}: Invalid marks, {self.marks}. Marks must be between 0 and 100.\")\n",
        "            return False\n",
        "        return True\n",
        "\n",
        "    def check_if_qualified(self):\n",
        "        if self.is_valid and self.marks >= 35:\n",
        "            self.is_qualified = True\n",
        "        else:\n",
        "            self.is_qualified = False\n",
        "\n",
        "    def calculate_scholarship(self):\n",
        "        if not self.is_qualified:\n",
        "            self.scholarship = 0\n",
        "            return\n",
        "        if 96 <= self.marks <= 100:\n",
        "            self.scholarship = 100\n",
        "        elif 86 <= self.marks < 96:\n",
        "            self.scholarship = 75\n",
        "        elif 76 <= self.marks < 86:\n",
        "            self.scholarship = 50\n",
        "        elif 60 <= self.marks < 76:\n",
        "            self.scholarship = 20\n",
        "        elif 50 <= self.marks < 60:\n",
        "            self.scholarship = 10\n",
        "        else:\n",
        "            self.scholarship = 0\n",
        "\n",
        "    def display(self):\n",
        "        print(f\"Student ID: {self.student_id}\")\n",
        "        print(f\"Age: {self.age}\")\n",
        "        print(f\"Marks: {self.marks}\")\n",
        "        print(f\"Valid Data: {'Yes' if self.is_valid else 'No'}\")\n",
        "        print(f\"Qualified for Admission: {'Yes!' if self.is_qualified else 'No :('}\")\n",
        "        if self.is_qualified:\n",
        "            print(f\"Scholarship Percentage: {self.scholarship}%\")\n",
        "        else:\n",
        "            print(\"Scholarship Percentage: N/A\")\n",
        "        print(\"-\" * 40)\n",
        "\n",
        "print('Input data for 5 students to be tested.')\n",
        "num_students = 5\n",
        "students = []\n",
        "print(f\"Enter details for {num_students} students:\")\n",
        "\n",
        "for i in range(num_students):\n",
        "    print(f\"\\nStudent {i+1}:\")\n",
        "    student_id = input(\"Enter student ID: \").strip()\n",
        "    while True:\n",
        "        try:\n",
        "            age = int(input(\"Enter age: \").strip())\n",
        "            break\n",
        "        except ValueError:\n",
        "            print(\"invalid input\")\n",
        "    while True:\n",
        "        try:\n",
        "            marks = float(input(\"Enter marks (0-100): \").strip())\n",
        "            break\n",
        "        except ValueError:\n",
        "            print(\"invalid input\")\n",
        "    student = Student(student_id, age, marks)\n",
        "    student.check_if_qualified()\n",
        "    student.calculate_scholarship()\n",
        "    students.append(student)\n",
        "\n",
        "print(\"\\nAdmission Results:\")\n",
        "print(\"=\" * 40)\n",
        "for student in students:\n",
        "    student.display()"
      ]
    },
    {
      "cell_type": "code",
      "execution_count": null,
      "id": "dc0d6aa9",
      "metadata": {
        "id": "dc0d6aa9"
      },
      "outputs": [],
      "source": []
    },
    {
      "cell_type": "markdown",
      "id": "294a59a5",
      "metadata": {
        "id": "294a59a5"
      },
      "source": [
        "## Task 4 - TollBooth (1.5 point)\n",
        "\n",
        "Imagine a tollbooth at a bridge. Vehicle passing by the booth are expected to pay or freely pass with a toll fee based on their vehicle type:\n",
        "\n",
        "\n",
        "*   **Bikes, Two-Wheeler and Scooter** pass for **free** (pay no toll).\n",
        "*   **Cars** are charged **500 rubles**.\n",
        "*   **Trucks/Buses** are charged **1200 rubles**.\n",
        "*   **Heavy-duty equipment vehicles** are charged **1500 rubles**.\n",
        "\n",
        "\n",
        "The tollbooth keeps track of the number of vehicles that have passed and the total amount of money collected.\n",
        "\n",
        "Model this tollbooth with a class called ***TollBooth***. The two data items are an unsigned integer to hold the total number of vehicles and an integer to hold the total amount of money collected. A constructor initializes both of these to zero.\n",
        "\n",
        "Implement the following member functions:\n",
        "\n",
        "1. **payVehicle(int toll)**: Increments the vehicle total and adds the specified toll amount to the cash total.\n",
        "2. **noPayVehicle()**: Increments the vehicle total but adds nothing to the cash total.\n",
        "3. **display()**: Displays the total number of vehicles and the total amount of money collected.\n",
        "\n",
        "Create an object of this class in the main function. Continuously display a menu to the user, allowing them to choose the type of vehicle passing by. Update the tollbooth accordingly and display the total statistics. Keep displaying the menu until the user chooses to exit the program."
      ]
    },
    {
      "cell_type": "code",
      "execution_count": 18,
      "id": "eab905e7",
      "metadata": {
        "colab": {
          "base_uri": "https://localhost:8080/"
        },
        "collapsed": true,
        "id": "eab905e7",
        "outputId": "3e564b39-a10a-4cdc-8bc4-1473db2a3c42"
      },
      "outputs": [
        {
          "output_type": "stream",
          "name": "stdout",
          "text": [
            "Select vehicle type passing the tollbooth: \n",
            "1. Bike / Two-Wheeler / Scooter (Free) \n",
            "2. Car (500 rubles) \n",
            "3. Truck / Bus (1200 rubles) \n",
            "4. Heavy-duty equipment vehicle (1500 rubles) \n",
            "5. Exit\n",
            "Enter your choice: 1\n",
            "Bike/Two-Wheeler/Scooter passed for free.\n",
            "\n",
            "Total vehicles passed: 1\n",
            "Total cash collected: 0 rubles\n",
            "\n",
            "\n",
            "Select vehicle type passing the tollbooth: \n",
            "1. Bike / Two-Wheeler / Scooter (Free) \n",
            "2. Car (500 rubles) \n",
            "3. Truck / Bus (1200 rubles) \n",
            "4. Heavy-duty equipment vehicle (1500 rubles) \n",
            "5. Exit\n",
            "Enter your choice: 1\n",
            "Bike/Two-Wheeler/Scooter passed for free.\n",
            "\n",
            "Total vehicles passed: 2\n",
            "Total cash collected: 0 rubles\n",
            "\n",
            "\n",
            "Select vehicle type passing the tollbooth: \n",
            "1. Bike / Two-Wheeler / Scooter (Free) \n",
            "2. Car (500 rubles) \n",
            "3. Truck / Bus (1200 rubles) \n",
            "4. Heavy-duty equipment vehicle (1500 rubles) \n",
            "5. Exit\n",
            "Enter your choice: 3\n",
            "Truck/Bus paid 1200 rubles.\n",
            "\n",
            "Total vehicles passed: 3\n",
            "Total cash collected: 1200 rubles\n",
            "\n",
            "\n",
            "Select vehicle type passing the tollbooth: \n",
            "1. Bike / Two-Wheeler / Scooter (Free) \n",
            "2. Car (500 rubles) \n",
            "3. Truck / Bus (1200 rubles) \n",
            "4. Heavy-duty equipment vehicle (1500 rubles) \n",
            "5. Exit\n",
            "Enter your choice: 4\n",
            "Heavy-duty equipment vehicle paid 1500 rubles.\n",
            "\n",
            "Total vehicles passed: 4\n",
            "Total cash collected: 2700 rubles\n",
            "\n",
            "\n",
            "Select vehicle type passing the tollbooth: \n",
            "1. Bike / Two-Wheeler / Scooter (Free) \n",
            "2. Car (500 rubles) \n",
            "3. Truck / Bus (1200 rubles) \n",
            "4. Heavy-duty equipment vehicle (1500 rubles) \n",
            "5. Exit\n",
            "Enter your choice: 5\n",
            "Exiting program.\n"
          ]
        }
      ],
      "source": [
        "class TollBooth:\n",
        "    def __init__(self):\n",
        "        self.total_vehicles = 0\n",
        "        self.total_cash = 0\n",
        "    def pay_vehicle(self, toll):\n",
        "        self.total_vehicles += 1\n",
        "        self.total_cash += toll\n",
        "    def no_pay_vehicle(self):\n",
        "        self.total_vehicles += 1\n",
        "    def display(self):\n",
        "        print(f\"\\nTotal vehicles passed: {self.total_vehicles}\")\n",
        "        print(f\"Total cash collected: {self.total_cash} rubles\\n\\n\")\n",
        "\n",
        "def main():\n",
        "    toll_booth = TollBooth()\n",
        "    while True:\n",
        "        print(\"Select vehicle type passing the tollbooth: \\n1. Bike / Two-Wheeler / Scooter (Free) \\n2. Car (500 rubles) \\n3. Truck / Bus (1200 rubles) \\n4. Heavy-duty equipment vehicle (1500 rubles) \\n5. Exit\")\n",
        "        try:\n",
        "            choice = int(input(\"Enter your choice: \"))\n",
        "        except ValueError:\n",
        "            print(\"Invalid input. Please enter a number from 1 to 5.\\n\")\n",
        "            continue\n",
        "\n",
        "        if choice == 1:\n",
        "            toll_booth.no_pay_vehicle()\n",
        "            print(\"Bike/Two-Wheeler/Scooter passed for free.\")\n",
        "        elif choice == 2:\n",
        "            toll_booth.pay_vehicle(500)\n",
        "            print(\"Car paid 500 rubles.\")\n",
        "        elif choice == 3:\n",
        "            toll_booth.pay_vehicle(1200)\n",
        "            print(\"Truck/Bus paid 1200 rubles.\")\n",
        "        elif choice == 4:\n",
        "            toll_booth.pay_vehicle(1500)\n",
        "            print(\"Heavy-duty equipment vehicle paid 1500 rubles.\")\n",
        "        elif choice == 5:\n",
        "            print(\"Exiting program.\")\n",
        "            break\n",
        "        else:\n",
        "            print(\"Invalid choice. Please try again.\\n\")\n",
        "            continue\n",
        "\n",
        "        toll_booth.display()\n",
        "if __name__ == \"__main__\":\n",
        "    main()"
      ]
    },
    {
      "cell_type": "code",
      "execution_count": null,
      "id": "8faad5b7",
      "metadata": {
        "id": "8faad5b7"
      },
      "outputs": [],
      "source": []
    },
    {
      "cell_type": "markdown",
      "id": "5cd18fef",
      "metadata": {
        "id": "5cd18fef"
      },
      "source": [
        "## Task 5 - Coding Challenge Practice (1 point)\n",
        "\n",
        "**Challenge 1:** Below is a list of Famous personalities in the world."
      ]
    },
    {
      "cell_type": "code",
      "execution_count": null,
      "id": "763c981a",
      "metadata": {
        "id": "763c981a"
      },
      "outputs": [],
      "source": [
        "presidents_full = [\"Michael Jackson\", \"Nelson Mandela\", \"Albert Einstein\", \"Mahatma Gandhi\", \"Yuri Gagarin\", \\\n",
        "        \"Marilyn Monroe\", \"Anne Frank\", \"Thomas Alva Edison\", \"Narendra Modi\", \"Neil Armstrong\", \\\n",
        "        \"J.K.Rowling\", \"Leo Tolstoy\", \"Henry Ford\", \"Pablo Picasso\", \"Steve Jobs\", \\\n",
        "        \"Abraham Lincoln\", \"Cristiano Ronaldo\", \"Magnus Carlsen\", \"Alexander Pushkin\", \"Donald Trump\", \\\n",
        "        \"Charlie Chaplin\", \"Leonardo Da Vinci\", \"Leonardo DiCaprio\", \"Jackie Chan\", \"Stephen Hawking\", \\\n",
        "        \"Osho Rajneesh\", \"John Cena\", \"Bernard Arnault\", \"Mark Twain\", \"Usain Bolt\", \\\n",
        "        \"Bruce Lee\", \"Jalāl al-Dīn Muḥammad Rumi\", \"Alex Ovechkin\", \"Elon Musk\", \"John F. Kennedy\", \\\n",
        "        \"James Stephen\", \"Richard Branson\", \"Michael Phelps\", \"Jeff Bezos\", \"Ken Jeong\", \"Swami Vivekananda\", \\\n",
        "        \"Bill Clinton\", \"Daniil Medvedev\", \"Mother Teresa\"]"
      ]
    },
    {
      "cell_type": "markdown",
      "id": "d7e2d750",
      "metadata": {
        "id": "d7e2d750"
      },
      "source": [
        "Create a new list that contains only the last name of each person."
      ]
    },
    {
      "cell_type": "code",
      "execution_count": null,
      "id": "41c96c63",
      "metadata": {
        "id": "41c96c63"
      },
      "outputs": [],
      "source": [
        "<YOUR CODE>"
      ]
    },
    {
      "cell_type": "markdown",
      "id": "f4a102ea",
      "metadata": {
        "id": "f4a102ea"
      },
      "source": [
        "Create a list of all the personalities whose First name starts with the letter M."
      ]
    },
    {
      "cell_type": "code",
      "execution_count": null,
      "id": "00cbfdbf",
      "metadata": {
        "id": "00cbfdbf"
      },
      "outputs": [],
      "source": [
        "<YOUR CODE>"
      ]
    },
    {
      "cell_type": "markdown",
      "id": "bf9fe04b",
      "metadata": {
        "id": "bf9fe04b"
      },
      "source": [
        "**Challenge 2:** Fill in the blanks in each of the programs below to produce the indicated result."
      ]
    },
    {
      "cell_type": "code",
      "execution_count": null,
      "id": "abf397e2",
      "metadata": {
        "id": "abf397e2"
      },
      "outputs": [],
      "source": [
        "# Total length of the strings in the list: [\"red\", \"green\", \"blue\"] => 12\n",
        "total = 0\n",
        "for word in [\"red\", \"green\", \"blue\"]:\n",
        "    ____ = ____ + len(word)\n",
        "print(total)"
      ]
    },
    {
      "cell_type": "code",
      "execution_count": null,
      "id": "540ce44f",
      "metadata": {
        "id": "540ce44f"
      },
      "outputs": [],
      "source": [
        "# List of word lengths: [\"red\", \"green\", \"blue\"] => [3, 5, 4]\n",
        "lengths = ____\n",
        "for word in [\"red\", \"green\", \"blue\"]:\n",
        "    lengths.____(____)\n",
        "print(lengths)"
      ]
    },
    {
      "cell_type": "code",
      "execution_count": null,
      "id": "130b6ec5",
      "metadata": {
        "id": "130b6ec5"
      },
      "outputs": [],
      "source": [
        "# Concatenate all words: [\"red\", \"green\", \"blue\"] => \"redgreenblue\"\n",
        "words = [\"red\", \"green\", \"blue\"]\n",
        "result = ____\n",
        "for ____ in ____:\n",
        "    ____\n",
        "print(result)"
      ]
    },
    {
      "cell_type": "code",
      "execution_count": null,
      "id": "c1f1c9f8",
      "metadata": {
        "id": "c1f1c9f8"
      },
      "outputs": [],
      "source": []
    }
  ],
  "metadata": {
    "kernelspec": {
      "display_name": "Python 3 (ipykernel)",
      "language": "python",
      "name": "python3"
    },
    "language_info": {
      "codemirror_mode": {
        "name": "ipython",
        "version": 3
      },
      "file_extension": ".py",
      "mimetype": "text/x-python",
      "name": "python",
      "nbconvert_exporter": "python",
      "pygments_lexer": "ipython3",
      "version": "3.10.9"
    },
    "colab": {
      "provenance": [],
      "include_colab_link": true
    }
  },
  "nbformat": 4,
  "nbformat_minor": 5
}